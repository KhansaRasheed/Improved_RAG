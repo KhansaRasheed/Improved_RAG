{
  "nbformat": 4,
  "nbformat_minor": 0,
  "metadata": {
    "colab": {
      "provenance": [],
      "collapsed_sections": [
        "fynJEiLORQGI",
        "yrIf3ycwwj-L",
        "ud7bNbL-w2-h",
        "WLZKzWErSwza",
        "NIMEm1sWUFmB",
        "qsPDEPTyN6d4",
        "vEPQDgh8Qr38",
        "D5lbUgXCaRE7",
        "fhfK4B9VOUkk"
      ]
    },
    "kernelspec": {
      "name": "python3",
      "display_name": "Python 3"
    },
    "language_info": {
      "name": "python"
    }
  },
  "cells": [
    {
      "cell_type": "code",
      "source": [
        "!pip install langchain langchain-community openai tiktoken faiss-cpu langchain-openai langchainhub python-docx"
      ],
      "metadata": {
        "colab": {
          "base_uri": "https://localhost:8080/"
        },
        "id": "4cCKFmPRA4c2",
        "outputId": "833e0e59-d808-46ee-b642-9c012822f1f5",
        "collapsed": true
      },
      "execution_count": null,
      "outputs": [
        {
          "output_type": "stream",
          "name": "stdout",
          "text": [
            "Collecting langchain\n",
            "  Downloading langchain-0.1.16-py3-none-any.whl (817 kB)\n",
            "\u001b[2K     \u001b[90m━━━━━━━━━━━━━━━━━━━━━━━━━━━━━━━━━━━━━━━━\u001b[0m \u001b[32m817.7/817.7 kB\u001b[0m \u001b[31m10.8 MB/s\u001b[0m eta \u001b[36m0:00:00\u001b[0m\n",
            "\u001b[?25hCollecting langchain-community\n",
            "  Downloading langchain_community-0.0.34-py3-none-any.whl (1.9 MB)\n",
            "\u001b[2K     \u001b[90m━━━━━━━━━━━━━━━━━━━━━━━━━━━━━━━━━━━━━━━━\u001b[0m \u001b[32m1.9/1.9 MB\u001b[0m \u001b[31m43.6 MB/s\u001b[0m eta \u001b[36m0:00:00\u001b[0m\n",
            "\u001b[?25hCollecting openai\n",
            "  Downloading openai-1.23.6-py3-none-any.whl (311 kB)\n",
            "\u001b[2K     \u001b[90m━━━━━━━━━━━━━━━━━━━━━━━━━━━━━━━━━━━━━━━━\u001b[0m \u001b[32m311.6/311.6 kB\u001b[0m \u001b[31m26.6 MB/s\u001b[0m eta \u001b[36m0:00:00\u001b[0m\n",
            "\u001b[?25hCollecting tiktoken\n",
            "  Downloading tiktoken-0.6.0-cp310-cp310-manylinux_2_17_x86_64.manylinux2014_x86_64.whl (1.8 MB)\n",
            "\u001b[2K     \u001b[90m━━━━━━━━━━━━━━━━━━━━━━━━━━━━━━━━━━━━━━━━\u001b[0m \u001b[32m1.8/1.8 MB\u001b[0m \u001b[31m37.3 MB/s\u001b[0m eta \u001b[36m0:00:00\u001b[0m\n",
            "\u001b[?25hCollecting faiss-cpu\n",
            "  Downloading faiss_cpu-1.8.0-cp310-cp310-manylinux_2_17_x86_64.manylinux2014_x86_64.whl (27.0 MB)\n",
            "\u001b[2K     \u001b[90m━━━━━━━━━━━━━━━━━━━━━━━━━━━━━━━━━━━━━━━━\u001b[0m \u001b[32m27.0/27.0 MB\u001b[0m \u001b[31m30.6 MB/s\u001b[0m eta \u001b[36m0:00:00\u001b[0m\n",
            "\u001b[?25hCollecting langchain-openai\n",
            "  Downloading langchain_openai-0.1.4-py3-none-any.whl (33 kB)\n",
            "Collecting langchainhub\n",
            "  Downloading langchainhub-0.1.15-py3-none-any.whl (4.6 kB)\n",
            "Collecting python-docx\n",
            "  Downloading python_docx-1.1.0-py3-none-any.whl (239 kB)\n",
            "\u001b[2K     \u001b[90m━━━━━━━━━━━━━━━━━━━━━━━━━━━━━━━━━━━━━━━━\u001b[0m \u001b[32m239.6/239.6 kB\u001b[0m \u001b[31m21.4 MB/s\u001b[0m eta \u001b[36m0:00:00\u001b[0m\n",
            "\u001b[?25hRequirement already satisfied: PyYAML>=5.3 in /usr/local/lib/python3.10/dist-packages (from langchain) (6.0.1)\n",
            "Requirement already satisfied: SQLAlchemy<3,>=1.4 in /usr/local/lib/python3.10/dist-packages (from langchain) (2.0.29)\n",
            "Requirement already satisfied: aiohttp<4.0.0,>=3.8.3 in /usr/local/lib/python3.10/dist-packages (from langchain) (3.9.5)\n",
            "Requirement already satisfied: async-timeout<5.0.0,>=4.0.0 in /usr/local/lib/python3.10/dist-packages (from langchain) (4.0.3)\n",
            "Collecting dataclasses-json<0.7,>=0.5.7 (from langchain)\n",
            "  Downloading dataclasses_json-0.6.5-py3-none-any.whl (28 kB)\n",
            "Collecting jsonpatch<2.0,>=1.33 (from langchain)\n",
            "  Downloading jsonpatch-1.33-py2.py3-none-any.whl (12 kB)\n",
            "Collecting langchain-core<0.2.0,>=0.1.42 (from langchain)\n",
            "  Downloading langchain_core-0.1.46-py3-none-any.whl (299 kB)\n",
            "\u001b[2K     \u001b[90m━━━━━━━━━━━━━━━━━━━━━━━━━━━━━━━━━━━━━━━━\u001b[0m \u001b[32m299.3/299.3 kB\u001b[0m \u001b[31m23.1 MB/s\u001b[0m eta \u001b[36m0:00:00\u001b[0m\n",
            "\u001b[?25hCollecting langchain-text-splitters<0.1,>=0.0.1 (from langchain)\n",
            "  Downloading langchain_text_splitters-0.0.1-py3-none-any.whl (21 kB)\n",
            "Collecting langsmith<0.2.0,>=0.1.17 (from langchain)\n",
            "  Downloading langsmith-0.1.51-py3-none-any.whl (115 kB)\n",
            "\u001b[2K     \u001b[90m━━━━━━━━━━━━━━━━━━━━━━━━━━━━━━━━━━━━━━━━\u001b[0m \u001b[32m116.0/116.0 kB\u001b[0m \u001b[31m11.4 MB/s\u001b[0m eta \u001b[36m0:00:00\u001b[0m\n",
            "\u001b[?25hRequirement already satisfied: numpy<2,>=1 in /usr/local/lib/python3.10/dist-packages (from langchain) (1.25.2)\n",
            "Requirement already satisfied: pydantic<3,>=1 in /usr/local/lib/python3.10/dist-packages (from langchain) (2.7.0)\n",
            "Requirement already satisfied: requests<3,>=2 in /usr/local/lib/python3.10/dist-packages (from langchain) (2.31.0)\n",
            "Requirement already satisfied: tenacity<9.0.0,>=8.1.0 in /usr/local/lib/python3.10/dist-packages (from langchain) (8.2.3)\n",
            "Requirement already satisfied: anyio<5,>=3.5.0 in /usr/local/lib/python3.10/dist-packages (from openai) (3.7.1)\n",
            "Requirement already satisfied: distro<2,>=1.7.0 in /usr/lib/python3/dist-packages (from openai) (1.7.0)\n",
            "Collecting httpx<1,>=0.23.0 (from openai)\n",
            "  Downloading httpx-0.27.0-py3-none-any.whl (75 kB)\n",
            "\u001b[2K     \u001b[90m━━━━━━━━━━━━━━━━━━━━━━━━━━━━━━━━━━━━━━━━\u001b[0m \u001b[32m75.6/75.6 kB\u001b[0m \u001b[31m8.8 MB/s\u001b[0m eta \u001b[36m0:00:00\u001b[0m\n",
            "\u001b[?25hRequirement already satisfied: sniffio in /usr/local/lib/python3.10/dist-packages (from openai) (1.3.1)\n",
            "Requirement already satisfied: tqdm>4 in /usr/local/lib/python3.10/dist-packages (from openai) (4.66.2)\n",
            "Requirement already satisfied: typing-extensions<5,>=4.7 in /usr/local/lib/python3.10/dist-packages (from openai) (4.11.0)\n",
            "Requirement already satisfied: regex>=2022.1.18 in /usr/local/lib/python3.10/dist-packages (from tiktoken) (2023.12.25)\n",
            "Collecting types-requests<3.0.0.0,>=2.31.0.2 (from langchainhub)\n",
            "  Downloading types_requests-2.31.0.20240406-py3-none-any.whl (15 kB)\n",
            "Requirement already satisfied: lxml>=3.1.0 in /usr/local/lib/python3.10/dist-packages (from python-docx) (4.9.4)\n",
            "Requirement already satisfied: aiosignal>=1.1.2 in /usr/local/lib/python3.10/dist-packages (from aiohttp<4.0.0,>=3.8.3->langchain) (1.3.1)\n",
            "Requirement already satisfied: attrs>=17.3.0 in /usr/local/lib/python3.10/dist-packages (from aiohttp<4.0.0,>=3.8.3->langchain) (23.2.0)\n",
            "Requirement already satisfied: frozenlist>=1.1.1 in /usr/local/lib/python3.10/dist-packages (from aiohttp<4.0.0,>=3.8.3->langchain) (1.4.1)\n",
            "Requirement already satisfied: multidict<7.0,>=4.5 in /usr/local/lib/python3.10/dist-packages (from aiohttp<4.0.0,>=3.8.3->langchain) (6.0.5)\n",
            "Requirement already satisfied: yarl<2.0,>=1.0 in /usr/local/lib/python3.10/dist-packages (from aiohttp<4.0.0,>=3.8.3->langchain) (1.9.4)\n",
            "Requirement already satisfied: idna>=2.8 in /usr/local/lib/python3.10/dist-packages (from anyio<5,>=3.5.0->openai) (3.7)\n",
            "Requirement already satisfied: exceptiongroup in /usr/local/lib/python3.10/dist-packages (from anyio<5,>=3.5.0->openai) (1.2.1)\n",
            "Collecting marshmallow<4.0.0,>=3.18.0 (from dataclasses-json<0.7,>=0.5.7->langchain)\n",
            "  Downloading marshmallow-3.21.1-py3-none-any.whl (49 kB)\n",
            "\u001b[2K     \u001b[90m━━━━━━━━━━━━━━━━━━━━━━━━━━━━━━━━━━━━━━━━\u001b[0m \u001b[32m49.4/49.4 kB\u001b[0m \u001b[31m5.7 MB/s\u001b[0m eta \u001b[36m0:00:00\u001b[0m\n",
            "\u001b[?25hCollecting typing-inspect<1,>=0.4.0 (from dataclasses-json<0.7,>=0.5.7->langchain)\n",
            "  Downloading typing_inspect-0.9.0-py3-none-any.whl (8.8 kB)\n",
            "Requirement already satisfied: certifi in /usr/local/lib/python3.10/dist-packages (from httpx<1,>=0.23.0->openai) (2024.2.2)\n",
            "Collecting httpcore==1.* (from httpx<1,>=0.23.0->openai)\n",
            "  Downloading httpcore-1.0.5-py3-none-any.whl (77 kB)\n",
            "\u001b[2K     \u001b[90m━━━━━━━━━━━━━━━━━━━━━━━━━━━━━━━━━━━━━━━━\u001b[0m \u001b[32m77.9/77.9 kB\u001b[0m \u001b[31m9.1 MB/s\u001b[0m eta \u001b[36m0:00:00\u001b[0m\n",
            "\u001b[?25hCollecting h11<0.15,>=0.13 (from httpcore==1.*->httpx<1,>=0.23.0->openai)\n",
            "  Downloading h11-0.14.0-py3-none-any.whl (58 kB)\n",
            "\u001b[2K     \u001b[90m━━━━━━━━━━━━━━━━━━━━━━━━━━━━━━━━━━━━━━━━\u001b[0m \u001b[32m58.3/58.3 kB\u001b[0m \u001b[31m5.6 MB/s\u001b[0m eta \u001b[36m0:00:00\u001b[0m\n",
            "\u001b[?25hCollecting jsonpointer>=1.9 (from jsonpatch<2.0,>=1.33->langchain)\n",
            "  Downloading jsonpointer-2.4-py2.py3-none-any.whl (7.8 kB)\n",
            "Collecting packaging<24.0,>=23.2 (from langchain-core<0.2.0,>=0.1.42->langchain)\n",
            "  Downloading packaging-23.2-py3-none-any.whl (53 kB)\n",
            "\u001b[2K     \u001b[90m━━━━━━━━━━━━━━━━━━━━━━━━━━━━━━━━━━━━━━━━\u001b[0m \u001b[32m53.0/53.0 kB\u001b[0m \u001b[31m6.2 MB/s\u001b[0m eta \u001b[36m0:00:00\u001b[0m\n",
            "\u001b[?25hCollecting orjson<4.0.0,>=3.9.14 (from langsmith<0.2.0,>=0.1.17->langchain)\n",
            "  Downloading orjson-3.10.1-cp310-cp310-manylinux_2_17_x86_64.manylinux2014_x86_64.whl (141 kB)\n",
            "\u001b[2K     \u001b[90m━━━━━━━━━━━━━━━━━━━━━━━━━━━━━━━━━━━━━━━━\u001b[0m \u001b[32m141.1/141.1 kB\u001b[0m \u001b[31m15.9 MB/s\u001b[0m eta \u001b[36m0:00:00\u001b[0m\n",
            "\u001b[?25hRequirement already satisfied: annotated-types>=0.4.0 in /usr/local/lib/python3.10/dist-packages (from pydantic<3,>=1->langchain) (0.6.0)\n",
            "Requirement already satisfied: pydantic-core==2.18.1 in /usr/local/lib/python3.10/dist-packages (from pydantic<3,>=1->langchain) (2.18.1)\n",
            "Requirement already satisfied: charset-normalizer<4,>=2 in /usr/local/lib/python3.10/dist-packages (from requests<3,>=2->langchain) (3.3.2)\n",
            "Requirement already satisfied: urllib3<3,>=1.21.1 in /usr/local/lib/python3.10/dist-packages (from requests<3,>=2->langchain) (2.0.7)\n",
            "Requirement already satisfied: greenlet!=0.4.17 in /usr/local/lib/python3.10/dist-packages (from SQLAlchemy<3,>=1.4->langchain) (3.0.3)\n",
            "Collecting mypy-extensions>=0.3.0 (from typing-inspect<1,>=0.4.0->dataclasses-json<0.7,>=0.5.7->langchain)\n",
            "  Downloading mypy_extensions-1.0.0-py3-none-any.whl (4.7 kB)\n",
            "Installing collected packages: types-requests, python-docx, packaging, orjson, mypy-extensions, jsonpointer, h11, faiss-cpu, typing-inspect, tiktoken, marshmallow, langchainhub, jsonpatch, httpcore, langsmith, httpx, dataclasses-json, openai, langchain-core, langchain-text-splitters, langchain-openai, langchain-community, langchain\n",
            "  Attempting uninstall: packaging\n",
            "    Found existing installation: packaging 24.0\n",
            "    Uninstalling packaging-24.0:\n",
            "      Successfully uninstalled packaging-24.0\n",
            "Successfully installed dataclasses-json-0.6.5 faiss-cpu-1.8.0 h11-0.14.0 httpcore-1.0.5 httpx-0.27.0 jsonpatch-1.33 jsonpointer-2.4 langchain-0.1.16 langchain-community-0.0.34 langchain-core-0.1.46 langchain-openai-0.1.4 langchain-text-splitters-0.0.1 langchainhub-0.1.15 langsmith-0.1.51 marshmallow-3.21.1 mypy-extensions-1.0.0 openai-1.23.6 orjson-3.10.1 packaging-23.2 python-docx-1.1.0 tiktoken-0.6.0 types-requests-2.31.0.20240406 typing-inspect-0.9.0\n"
          ]
        }
      ]
    },
    {
      "cell_type": "code",
      "execution_count": null,
      "metadata": {
        "id": "gZ_gs-xpAIoE"
      },
      "outputs": [],
      "source": [
        "import json\n",
        "import os\n",
        "\n",
        "import glob\n",
        "from langchain import hub\n",
        "from langchain.embeddings.openai import OpenAIEmbeddings\n",
        "from langchain.text_splitter import RecursiveCharacterTextSplitter\n",
        "from langchain.vectorstores import FAISS\n",
        "\n",
        "import openai as OpenAI\n",
        "from google.colab import userdata\n",
        "import tiktoken\n",
        "import openai\n",
        "from langchain.docstore.document import Document\n",
        "\n",
        "from langchain.chat_models import ChatOpenAI\n",
        "from langchain_core.runnables import RunnableParallel, RunnablePassthrough\n",
        "from langchain_core.output_parsers import StrOutputParser\n",
        "from operator import itemgetter\n",
        "\n",
        "from docx import Document as format_doc\n",
        "from docx.shared import Pt\n",
        "from docx.enum.text import WD_PARAGRAPH_ALIGNMENT\n",
        "from langchain_openai import ChatOpenAI\n",
        "from langchain_core.prompts import ChatPromptTemplate\n",
        "from langchain_core.pydantic_v1 import BaseModel, Field"
      ]
    },
    {
      "cell_type": "code",
      "source": [
        "Openai_API_key=userdata.get('Openai_API_key')\n",
        "Pinecone_API_key=userdata.get('Pinecone_API_key')"
      ],
      "metadata": {
        "id": "0s9F_UNYFCtn"
      },
      "execution_count": null,
      "outputs": []
    },
    {
      "cell_type": "markdown",
      "source": [
        "##Utils"
      ],
      "metadata": {
        "id": "fynJEiLORQGI"
      }
    },
    {
      "cell_type": "code",
      "source": [
        "# # Read text from a file\n",
        "# def read_text_file(file_path):\n",
        "#     with open(file_path, 'r', encoding='utf-8') as file:\n",
        "#         text = file.read()\n",
        "#     return text\n",
        "\n",
        "def read_text_files(directory_path):\n",
        "    texts = {}\n",
        "    # List all files in the given directory\n",
        "    for filename in os.listdir(directory_path):\n",
        "        if filename.endswith('.txt'):  # Check if the file is a text file\n",
        "            file_path = os.path.join(directory_path, filename)\n",
        "            with open(file_path, 'r', encoding='utf-8') as file:\n",
        "                texts[filename] = file.read()\n",
        "    return texts"
      ],
      "metadata": {
        "id": "ds66gFtEAskY"
      },
      "execution_count": null,
      "outputs": []
    },
    {
      "cell_type": "code",
      "source": [
        "import openai\n",
        "\n",
        "def generate_questions(chunk, num_questions=1, API_KEY='your-api-key'):\n",
        "    questions = []\n",
        "    openai.api_key = API_KEY  # Set the API key\n",
        "\n",
        "    # Assemble the prompt for the OpenAI API\n",
        "    prompt = f\"Given the text: \\\"{chunk}\\\" ONLY Generate {num_questions} hypothetical questions. DO NOT GENERATE MORE QUESTIONS:\"\n",
        "\n",
        "    try:\n",
        "        response = openai.chat.completions.create(\n",
        "            model=\"gpt-3.5-turbo\",  # Use the correct endpoint for completions\n",
        "\n",
        "             messages=[\n",
        "        {\n",
        "            \"role\": \"system\",\n",
        "            \"content\": prompt,\n",
        "        },\n",
        "    ],\n",
        ")\n",
        "\n",
        "\n",
        "        # Processing the output to extract questions\n",
        "        text_output = response.choices[0].message.content\n",
        "        questions = text_output.split('\\n')[:num_questions]  # Limit the number of questions\n",
        "    except Exception as e:\n",
        "        print(f\"An error occurred: {e}\")\n",
        "\n",
        "    return questions\n"
      ],
      "metadata": {
        "id": "HUJR2VSHAx2e"
      },
      "execution_count": null,
      "outputs": []
    },
    {
      "cell_type": "code",
      "source": [
        "def save_to_docx(question, retrieved_document, relevance, explanation, filename=\"Relevance_Assessment.docx\"):\n",
        "    doc = format_doc()\n",
        "    doc.add_heading('Reasoning of Context Retrieval', level=1)\n",
        "\n",
        "    # User's question\n",
        "    doc.add_heading('User\\'s Question:', level=2)\n",
        "    para = doc.add_paragraph()\n",
        "    para.add_run(question).bold = True\n",
        "\n",
        "    # Relevancy\n",
        "    doc.add_heading('Relevancy:', level=2)\n",
        "    relevancy_text = \"The context is relevant to the question.\" if relevance.lower() == 'yes' else \"The context is not relevant to the question.\"\n",
        "    doc.add_paragraph(relevancy_text)\n",
        "\n",
        "    # Reasoning\n",
        "    doc.add_heading('Reasoning:', level=2)\n",
        "    explanation_points = explanation.split('. ')  # Split by period and space to ensure that sentences are captured correctly\n",
        "    for point in explanation_points:\n",
        "        if point:  # Check if point is not empty\n",
        "            if point[-1] != '.':  # Check if the last character is not a period\n",
        "                point += '.'  # Add a period if it's missing at the end of the sentence\n",
        "            doc.add_paragraph(point, style='ListBullet')\n",
        "        # Retrieved context\n",
        "    doc.add_heading('Retrieved Context:', level=2)\n",
        "    doc.add_paragraph(retrieved_document)\n",
        "\n",
        "    # Save the document\n",
        "    doc.save(filename)\n",
        "    print(f\"Document saved as '{filename}'\")"
      ],
      "metadata": {
        "id": "H8R1GPfYrj1F"
      },
      "execution_count": null,
      "outputs": []
    },
    {
      "cell_type": "code",
      "source": [
        "def save_best_answer_to_docx(question, answer_1, answer_2, explanation, best_answer, filename=\"Best_Answer_Explanation.docx\"):\n",
        "    doc = format_doc()\n",
        "    doc.add_heading('Best Answer Analysis', level=1)\n",
        "\n",
        "    # User's question\n",
        "    doc.add_heading('User\\'s Question:', level=2)\n",
        "    para = doc.add_paragraph()\n",
        "    para.add_run(question).bold = True\n",
        "\n",
        "    doc.add_heading('Answer Relevancy:', level=2)\n",
        "\n",
        "    # Determine which answer is more accurate or if neither is correct\n",
        "    if best_answer == 'Answer 1':\n",
        "        best_answer_description = \"First answer is more accurate and detailed.\"\n",
        "    elif best_answer == 'Answer 2':\n",
        "        best_answer_description = \"Second answer is more accurate and detailed.\"\n",
        "    else:\n",
        "        best_answer_description = \"Both answers are not correct.\"\n",
        "\n",
        "    # Add the determined relevancy description to the document\n",
        "    doc.add_paragraph(best_answer_description)\n",
        "\n",
        "    # Explanation\n",
        "    doc.add_heading('Explanation:', level=2)\n",
        "    explanation_points = explanation.split('. ')  # Assuming each sentence ends with a period followed by a space\n",
        "    for point in explanation_points:\n",
        "        if point:  # Check if the point is not empty\n",
        "            if point[-1] != '.':  # Check if the last character is not a period\n",
        "                point += '.'  # Add a period if it's missing at the end of the sentence\n",
        "            doc.add_paragraph(point, style='ListBullet')\n",
        "\n",
        "    # Best Answer\n",
        "    doc.add_heading('Answers:', level=2)\n",
        "    doc.add_heading('Answer 1:', level=3)\n",
        "    doc.add_paragraph(answer_1)\n",
        "\n",
        "    doc.add_heading('Answer 2:', level=3)\n",
        "    doc.add_paragraph(answer_2)\n",
        "\n",
        "    # Save the document\n",
        "    doc.save(filename)\n",
        "    print(f\"Document saved as '{filename}'\")"
      ],
      "metadata": {
        "id": "NkTaKWA8rzXC"
      },
      "execution_count": null,
      "outputs": []
    },
    {
      "cell_type": "markdown",
      "source": [
        "## Data Preparation"
      ],
      "metadata": {
        "id": "yrIf3ycwwj-L"
      }
    },
    {
      "cell_type": "code",
      "source": [
        "  # Read data\n",
        "file_path = '/content/drive/MyDrive/vector_embedding'  # Replace with your actual text file path\n",
        "text = read_text_files(file_path)"
      ],
      "metadata": {
        "id": "QqVyineUIZTD"
      },
      "execution_count": null,
      "outputs": []
    },
    {
      "cell_type": "code",
      "source": [
        "# Tokenize the text using the defined tokenizer\n",
        "tokenizer = RecursiveCharacterTextSplitter(chunk_size=1500, chunk_overlap=200, separators='\\n')\n",
        "\n",
        "docs=[]\n",
        "\n",
        "for filename, content in text.items():\n",
        "\n",
        "  tokenized_texts = tokenizer.split_text(content)  # Tokenize the content of each file\n",
        "\n",
        "  for chunk in tokenized_texts:\n",
        "    docs.append(Document(page_content=chunk, metadata={'source_document':filename}))\n",
        "\n",
        "print(f\"Number of chunks: {len(docs)}\")\n",
        "print(f\"Source document of 2nd chunk: {docs[1].metadata['source_document']}\")"
      ],
      "metadata": {
        "id": "c5AvZJiPYquV",
        "colab": {
          "base_uri": "https://localhost:8080/"
        },
        "outputId": "1fa282ba-a8f5-48bb-f2eb-6468e776a491"
      },
      "execution_count": null,
      "outputs": [
        {
          "output_type": "stream",
          "name": "stdout",
          "text": [
            "Number of chunks: 19\n",
            "Source document of 2nd chunk: diagnosis.txt\n"
          ]
        }
      ]
    },
    {
      "cell_type": "code",
      "source": [
        "embeddings = OpenAIEmbeddings(openai_api_key=Openai_API_key,model=\"text-embedding-3-large\")\n",
        "persisted_vectorstore = FAISS.from_documents(docs, embeddings)\n",
        "\n",
        "# # Persist the vectors locally on disk\n",
        "# vectorstore.save_local(\"Embeddings\")\n",
        "\n",
        "# Load from local storage\n",
        "# persisted_vectorstore = FAISS.load_local(\"Embeddings\", embeddings)"
      ],
      "metadata": {
        "id": "DjiOGLFzTtyP",
        "colab": {
          "base_uri": "https://localhost:8080/"
        },
        "outputId": "3570f680-a212-4d30-97a9-551d44e86eb3"
      },
      "execution_count": null,
      "outputs": [
        {
          "output_type": "stream",
          "name": "stderr",
          "text": [
            "/usr/local/lib/python3.10/dist-packages/langchain_core/_api/deprecation.py:119: LangChainDeprecationWarning: The class `OpenAIEmbeddings` was deprecated in LangChain 0.0.9 and will be removed in 0.2.0. An updated version of the class exists in the langchain-openai package and should be used instead. To use it run `pip install -U langchain-openai` and import as `from langchain_openai import OpenAIEmbeddings`.\n",
            "  warn_deprecated(\n"
          ]
        }
      ]
    },
    {
      "cell_type": "markdown",
      "source": [
        "## Question Generation"
      ],
      "metadata": {
        "id": "ud7bNbL-w2-h"
      }
    },
    {
      "cell_type": "code",
      "source": [
        "questions = []\n",
        "\n",
        "API_KEYYY = Openai_API_key  # Use your actual API key\n",
        "# Create a separate list for the documents that contain questions\n",
        "question_documents = []\n",
        "\n",
        "for doc in docs:\n",
        "  # print(doc.page_content)\n",
        "  print(doc.metadata['source_document'])\n",
        "  gen_questions = generate_questions(doc.page_content, API_KEY=API_KEYYY)\n",
        "  # print(gen_questions)\n",
        "  for quest in gen_questions:\n",
        "      # Create a new document for each question and append to the separate list\n",
        "      question_doc = Document(page_content=quest, metadata={'source_document': doc.metadata['source_document']})\n",
        "      question_documents.append(question_doc)\n",
        "\n",
        "# Now, if you want to combine the original docs with the new question docs\n",
        "# docs.extend(question_documents)\n",
        "\n",
        "# print(f\"Total documents now: {len(docs)}\")\n"
      ],
      "metadata": {
        "colab": {
          "base_uri": "https://localhost:8080/"
        },
        "collapsed": true,
        "id": "vm5ysNRh0UtN",
        "outputId": "e0a06390-0643-4357-a519-099d2f4d464d"
      },
      "execution_count": null,
      "outputs": [
        {
          "output_type": "stream",
          "name": "stdout",
          "text": [
            "diagnosis.txt\n",
            "diagnosis.txt\n",
            "diagnosis.txt\n",
            "diagnosis.txt\n",
            "diagnosis.txt\n",
            "causes-inheritance.txt\n",
            "causes-inheritance.txt\n",
            "causes-inheritance.txt\n",
            "causes-inheritance.txt\n",
            "causes-inheritance.txt\n",
            "duchenne-muscular-dystrophy.txt\n",
            "duchenne-muscular-dystrophy.txt\n",
            "duchenne-muscular-dystrophy.txt\n",
            "duchenne-muscular-dystrophy.txt\n",
            "duchenne-muscular-dystrophy.txt\n",
            "signs-and-symptoms.txt\n",
            "signs-and-symptoms.txt\n",
            "signs-and-symptoms.txt\n",
            "signs-and-symptoms.txt\n"
          ]
        }
      ]
    },
    {
      "cell_type": "code",
      "source": [
        "print(f\"Number of generated questions: {len(question_documents)}\")\n",
        "print(f\"Generated Questions:\\n{chr(10).join(ques.page_content for ques in question_documents)}\")"
      ],
      "metadata": {
        "colab": {
          "base_uri": "https://localhost:8080/"
        },
        "id": "wDEir7cGxpDq",
        "outputId": "d2ba1ba7-bf76-4757-cdaa-4bd3c810f744"
      },
      "execution_count": null,
      "outputs": [
        {
          "output_type": "stream",
          "name": "stdout",
          "text": [
            "Number of generated questions: 19\n",
            "Generated Questions:\n",
            "What role do CK and other enzyme levels play in the diagnosis of Duchenne Muscular Dystrophy?\n",
            "What information can genetic testing provide regarding muscle disorders like muscular dystrophy?\n",
            "What are the implications for female relatives of men and boys with Duchenne muscular dystrophy in terms of genetic testing and potential symptoms?\n",
            "How does the amount of functional dystrophin protein found in a muscle biopsy sample help distinguish between Duchenne muscular dystrophy (DMD) and Becker muscular dystrophy (BMD)?\n",
            "What is the relationship between the quantity of dystrophin detected in a western blot analysis and the severity of the disease in patients with suspected DMD?\n",
            "What is the role of the dystrophin protein in protecting muscles from degeneration in individuals with Becker Muscular Dystrophy?\n",
            "What are the potential consequences of mutations in the gene encoding the middle section of the dystrophin protein in terms of muscle function and overall health in individuals with Duchenne muscular dystrophy (DMD)?\n",
            "What are the two possible explanations for a family with no history of DMD suddenly having a son with the disease?\n",
            "How do manifesting carriers of DMD differ from females who do not exhibit symptoms of the disease?\n",
            "What are the implications for a female who is found to be a carrier of DMD and what measures can be taken to manage any symptoms that may arise?\n",
            "What age range typically sees symptom onset of Duchenne muscular dystrophy (DMD)?\n",
            "What is the genetic cause of Duchenne muscular dystrophy (DMD)?\n",
            "What factors can impact the life expectancy of individuals diagnosed with Duchenne muscular dystrophy (DMD)?\n",
            "How has the approval of eteplirsen and deflazacort impacted the treatment options and outlook for individuals with DMD?\n",
            "What percentage of individuals with Duchenne Muscular Dystrophy may potentially benefit from the exon 53 skipping therapeutic strategy?\n",
            "What impact could variations in the gene LTBP4 and the regulatory region of the gene SPP1 have on the progression of Duchenne muscular dystrophy (DMD) in affected individuals?\n",
            "What interventions could potentially improve the cardiac health and function of patients with DMD to potentially extend their lifespan?\n",
            "What are the potential consequences of weakened respiratory muscles in individuals with DMD?\n",
            "What are some possible exercises and techniques that a specialist may prescribe to help improve learning difficulties in children with DMD?\n"
          ]
        }
      ]
    },
    {
      "cell_type": "code",
      "source": [
        "ques_embeddings = OpenAIEmbeddings(openai_api_key=Openai_API_key,model=\"text-embedding-3-large\")\n",
        "persistedq_vectorstore = FAISS.from_documents(question_documents, ques_embeddings)\n",
        "\n",
        "# Persist the vectors locally on disk\n",
        "# ques_vectorstore.save_local(\"Question_Embeddings\")\n",
        "\n",
        "# Load from local storage\n",
        "# persistedq_vectorstore = FAISS.load_local(\"Question_Embeddings\", ques_embeddings)"
      ],
      "metadata": {
        "id": "go0mg7qPVDK-"
      },
      "execution_count": null,
      "outputs": []
    },
    {
      "cell_type": "code",
      "source": [
        "embed_result = ques_embeddings.embed_query(question_documents[0].page_content)\n",
        "len(embed_result)"
      ],
      "metadata": {
        "colab": {
          "base_uri": "https://localhost:8080/"
        },
        "id": "dmpNpSi9Va74",
        "outputId": "2358f935-0346-4ebb-c73e-2512645c425d"
      },
      "execution_count": null,
      "outputs": [
        {
          "output_type": "execute_result",
          "data": {
            "text/plain": [
              "3072"
            ]
          },
          "metadata": {},
          "execution_count": 14
        }
      ]
    },
    {
      "cell_type": "markdown",
      "source": [
        "## QA Generation"
      ],
      "metadata": {
        "id": "PfGD2wuxyhPt"
      }
    },
    {
      "cell_type": "markdown",
      "source": [
        "### User Input"
      ],
      "metadata": {
        "id": "WLZKzWErSwza"
      }
    },
    {
      "cell_type": "code",
      "source": [
        "query_question = input(\"Please enter your question: \")"
      ],
      "metadata": {
        "colab": {
          "base_uri": "https://localhost:8080/"
        },
        "id": "5W3LecwwWGZm",
        "outputId": "ff73f6a4-67f2-4cbf-ac64-26255d90c434"
      },
      "execution_count": null,
      "outputs": [
        {
          "name": "stdout",
          "output_type": "stream",
          "text": [
            "Please enter your question: What are some of the clinical implications for female carriers of the DMD gene, particularly those who show symptoms of the disease?\n"
          ]
        }
      ]
    },
    {
      "cell_type": "code",
      "source": [
        "# Relevant question retreival from hypothetical questions\n",
        "retriever_FAISS=persistedq_vectorstore.as_retriever(search_type=\"similarity\", search_kwargs={\"k\": 2})\n",
        "\n",
        "Ques_docs = retriever_FAISS.invoke(query_question)\n",
        "\n",
        "print(f\"The relevant questions are: \\n{chr(10).join(Ques_docs[i].page_content for i in range(len(Ques_docs)))}\")"
      ],
      "metadata": {
        "id": "t5J0GKS3WJAq",
        "colab": {
          "base_uri": "https://localhost:8080/"
        },
        "outputId": "a0db4952-0047-491b-8c19-fa50a7f31f04"
      },
      "execution_count": null,
      "outputs": [
        {
          "output_type": "stream",
          "name": "stdout",
          "text": [
            "The relevant questions are: \n",
            "What are the implications for a female who is found to be a carrier of DMD and what measures can be taken to manage any symptoms that may arise?\n",
            "What are the implications for female relatives of men and boys with Duchenne muscular dystrophy in terms of genetic testing and potential symptoms?\n"
          ]
        }
      ]
    },
    {
      "cell_type": "markdown",
      "source": [
        "### Relevant context retreival for each question"
      ],
      "metadata": {
        "id": "NIMEm1sWUFmB"
      }
    },
    {
      "cell_type": "code",
      "source": [
        "retriever_text_FAISS=persisted_vectorstore.as_retriever(search_type=\"similarity\", search_kwargs={\"k\": 5})"
      ],
      "metadata": {
        "id": "ZEaAWiVHquUw"
      },
      "execution_count": null,
      "outputs": []
    },
    {
      "cell_type": "code",
      "source": [
        "contexts = []  # This will hold all the context information\n",
        "sources = []\n",
        "for relevant_quest in Ques_docs:\n",
        "    # Ensure we have a string input for the retriever\n",
        "    if hasattr(relevant_quest, 'page_content'):\n",
        "        quest_text = relevant_quest.page_content\n",
        "        source = relevant_quest.metadata['source_document']\n",
        "\n",
        "\n",
        "        # Optional: Extract the main content after the first period\n",
        "        # If you want to process text after the first period uncomment the following line\n",
        "        # quest_text = quest_text.split('.', 1)[1] if '.' in quest_text else quest_text\n",
        "\n",
        "        # Retrieve context using the FAISS retriever\n",
        "        retrieved_context = retriever_text_FAISS.invoke(quest_text)\n",
        "\n",
        "        # Append the retrieved context to the contexts list\n",
        "        contexts.append(retrieved_context)\n",
        "        sources.append(source)\n",
        "\n",
        "    else:\n",
        "        print(\"Error: Document does not have page_content\")\n"
      ],
      "metadata": {
        "id": "SLFLZMs77yfe"
      },
      "execution_count": null,
      "outputs": []
    },
    {
      "cell_type": "code",
      "source": [
        "from operator import attrgetter\n",
        "\n",
        "def extract_unique_content(contexts):\n",
        "    # Set to keep track of unique page contents\n",
        "    unique_contents = set()\n",
        "    # List to store unique Document objects\n",
        "    unique_documents = []\n",
        "\n",
        "    # Iterate through each sublist in the main list 'contexts'\n",
        "    for sublist in contexts:\n",
        "        for document in sublist:\n",
        "            # Check if the document's page_content is already in the set\n",
        "            if document.page_content not in unique_contents:\n",
        "                # If not, add the page_content to the set\n",
        "                unique_contents.add(document.page_content)\n",
        "                # Also add the Document to the list of unique_documents\n",
        "                unique_documents.append(document)\n",
        "\n",
        "    # Create an attribute getter for 'page_content'\n",
        "    get_page_content = attrgetter('page_content')\n",
        "\n",
        "    # Use the getter to extract 'page_content' from each Document in the list\n",
        "    page_contents = [get_page_content(doc) for doc in unique_documents]\n",
        "\n",
        "    # Join all page_content into a single string separated by newlines\n",
        "    all_content = '\\n'.join(page_contents)\n",
        "\n",
        "    # Return the combined content\n",
        "    return all_content\n",
        "\n",
        "# Example usage (assuming 'contexts' is defined as per your data structure)\n",
        "all_document_content = extract_unique_content(contexts)\n",
        "# print(f\"All Document page_content combined into one string:\\n{all_document_content}\")\n"
      ],
      "metadata": {
        "id": "fQVJBLcCNHeb"
      },
      "execution_count": null,
      "outputs": []
    },
    {
      "cell_type": "markdown",
      "source": [
        "###Answer generation"
      ],
      "metadata": {
        "id": "qsPDEPTyN6d4"
      }
    },
    {
      "cell_type": "code",
      "source": [
        "# Answer generation chain\n",
        "\n",
        "template = \"\"\"Answer the question based only on the following context:\n",
        "{text}\n",
        "\n",
        "Question: {question}\n",
        "\"\"\"\n",
        "\n",
        "prompt = ChatPromptTemplate.from_template(template)\n",
        "\n",
        "llm = ChatOpenAI(model_name=\"gpt-4-1106-preview\", temperature=0.7,  api_key=Openai_API_key)\n",
        "output_parser = StrOutputParser()\n",
        "\n",
        "setup_and_retrieval = RunnableParallel(\n",
        "    {\"text\": lambda x: all_document_content, \"question\": RunnablePassthrough()}\n",
        ")\n",
        "chain = setup_and_retrieval | prompt | llm | output_parser\n",
        "\n",
        "\n",
        "\n",
        "# document_chain = create_stuff_documents_chain(llm, prompt)"
      ],
      "metadata": {
        "id": "IpDMoah4WTkS"
      },
      "execution_count": null,
      "outputs": []
    },
    {
      "cell_type": "code",
      "source": [
        "Answer= chain.invoke(query_question)"
      ],
      "metadata": {
        "id": "Xqpr631t7PXx"
      },
      "execution_count": null,
      "outputs": []
    },
    {
      "cell_type": "markdown",
      "source": [
        "##Reasoning for Context Retrieval"
      ],
      "metadata": {
        "id": "vEPQDgh8Qr38"
      }
    },
    {
      "cell_type": "code",
      "source": [
        "\n",
        "# Updated data model with explanation\n",
        "class GradeDocuments(BaseModel):\n",
        "    \"\"\"Binary score for relevance check on retrieved documents with explanation.\"\"\"\n",
        "    binary_score: str = Field(description=\"Documents are relevant to the question, 'yes' or 'no'\")\n",
        "    explanation: str = Field(description=\"Explanation of why the document is or is not relevant to the question\")\n",
        "\n",
        "# Initialize the LLM with function call\n",
        "llm = ChatOpenAI(model=\"gpt-3.5-turbo-0125\", temperature=0, api_key=Openai_API_key)\n",
        "structured_llm_grader = llm.with_structured_output(GradeDocuments)\n",
        "\n",
        "# Updated system prompt to include reasoning\n",
        "system = \"\"\"You are a grader tasked with evaluating the relevance of a retrieved document segment in response to a user's question. Determine whether this segment is the most pertinent excerpt from the document, effectively and precisely addressing the user's query.\n",
        "Grade the document as relevant ('yes') or not relevant ('no') and explain your reasoning based on the presence of keyword(s) or semantic meanings related to the question.\"\"\"\n",
        "grade_prompt = ChatPromptTemplate.from_messages(\n",
        "    [\n",
        "        (\"system\", system),\n",
        "        (\"human\", \"Retrieved document: \\n\\n{Retrieved_document} \\n\\n User question: {question} \\n\\n User document: {document}\"),\n",
        "    ]\n",
        ")\n",
        "\n",
        "retrieval_grader = grade_prompt | structured_llm_grader\n",
        "\n",
        "# Assuming all_document_content contains the content of the retrieved document and docs is the full document\n",
        "doc_txt = all_document_content\n",
        "response = retrieval_grader.invoke({\"question\": query_question, \"Retrieved_document\": doc_txt, \"document\": docs})\n",
        "\n",
        "print(f\"Relevance: {response.binary_score}\")\n",
        "print(f\"Explanation: {response.explanation}\")\n",
        "\n",
        "# Example usage\n",
        "save_to_docx( question= query_question, retrieved_document= doc_txt, relevance= response.binary_score, explanation= response.explanation)\n"
      ],
      "metadata": {
        "colab": {
          "base_uri": "https://localhost:8080/"
        },
        "id": "neyCP-jWW0vC",
        "outputId": "b0a34dc1-c40f-401a-b4c8-e829fe87bd4f"
      },
      "execution_count": null,
      "outputs": [
        {
          "output_type": "stream",
          "name": "stdout",
          "text": [
            "Relevance: yes\n",
            "Explanation: The retrieved document segment provides information about female carriers of the DMD gene, particularly those who show symptoms of the disease. It explains that females with dystrophin deficiency may experience weaker muscles in the back, legs, and arms that fatigue easily. It also mentions that manifesting carriers may have heart problems, which can be serious and life-threatening if untreated. Additionally, it discusses rare instances where a girl may lack a second X chromosome or have sustained serious damage to it, leading to dystrophinopathy development similar to boys. The segment emphasizes the importance of diagnostic tests, carrier status management, and close cardiac monitoring for female relatives of boys with DMD who are carriers.\n",
            "Document saved as 'Relevance_Assessment.docx'\n"
          ]
        },
        {
          "output_type": "stream",
          "name": "stderr",
          "text": [
            "/usr/local/lib/python3.10/dist-packages/docx/styles/styles.py:130: UserWarning: style lookup by style_id is deprecated. Use style name as key instead.\n",
            "  return self._get_style_id_from_style(self[style_name], style_type)\n"
          ]
        }
      ]
    },
    {
      "cell_type": "markdown",
      "source": [
        "##Reasoning of Correct Answer"
      ],
      "metadata": {
        "id": "D5lbUgXCaRE7"
      }
    },
    {
      "cell_type": "code",
      "source": [
        "\n",
        "\n",
        "# # Define a new data model for assessing and comparing two answers\n",
        "# class EvaluateAnswers(BaseModel):\n",
        "#     best_answer: str = Field(description=\"Which answer is more correct or if both are equally valid/invalid.\")\n",
        "#     explanation: str = Field(description=\"Explanation of why one answer is better or if both are equal.\")\n",
        "\n",
        "# # Initialize the language model with structured output\n",
        "# llm = ChatOpenAI(model=\"gpt-3.5-turbo-0125\", temperature=0, api_key=Openai_API_key)\n",
        "# structured_llm_evaluator = llm.with_structured_output(EvaluateAnswers)\n",
        "# # System prompt to evaluate and compare answers\n",
        "# system = \"\"\"Assess which of the two provided answers more accurately and comprehensively addresses the question, using detailed logical reasoning based on the given context to justify your decision.\"\"\"\n",
        "# evaluate_prompt = ChatPromptTemplate.from_messages(\n",
        "#     [\n",
        "#         (\"system\", system),\n",
        "#         (\"human\", \"Context: {context} \\n\\n Question: {question} \\n\\n Answer 1: {answer1} \\n\\n Answer 2: {answer2}\"),\n",
        "#     ]\n",
        "# )\n",
        "\n",
        "# Define a new data model for assessing and comparing two answers\n",
        "class EvaluateAnswers(BaseModel):\n",
        "    best_answer: str = Field(description=\"Which answer is more correct, or specify if both are equally valid or invalid.\")\n",
        "    explanation: str = Field(description=\"Detailed explanation of why one answer is better, both are acceptable, or both are inadequate.\")\n",
        "\n",
        "# Initialize the language model with structured output\n",
        "llm = ChatOpenAI(model=\"gpt-3.5-turbo-0125\", temperature=0, api_key=Openai_API_key)\n",
        "structured_llm_evaluator = llm.with_structured_output(EvaluateAnswers)\n",
        "\n",
        "# System prompt to evaluate and compare answers\n",
        "system = \"\"\"\n",
        "Assess the accuracy and relevancy of the two provided answers in relation to the given question. Use the context to determine:\n",
        "- If each answer directly addresses the question's topic.\n",
        "- If the answer is factually correct and relevant based on the context.\n",
        "\n",
        "Note:\n",
        "- Clearly state if neither answer addresses the question correctly or is factually incorrect.\n",
        "- Specify which answer, if any, is more relevant and why, even if neither is fully correct.\n",
        "\"\"\"\n",
        "evaluate_prompt = ChatPromptTemplate.from_messages(\n",
        "    [\n",
        "        (\"system\", system),\n",
        "        (\"human\", \"Context: {context} \\n\\n Question: {question} \\n\\n Answer 1: {answer1} \\n\\n Answer 2: {answer2}\"),\n",
        "    ]\n",
        ")\n",
        "\n",
        "\n",
        "# Combine prompt template with structured output\n",
        "answer_evaluator = evaluate_prompt | structured_llm_evaluator\n",
        "\n",
        "\n"
      ],
      "metadata": {
        "id": "9tGra9KRp37n"
      },
      "execution_count": null,
      "outputs": []
    },
    {
      "cell_type": "code",
      "source": [
        "Second_answer = input(\"Please enter your answer: \")"
      ],
      "metadata": {
        "colab": {
          "base_uri": "https://localhost:8080/"
        },
        "id": "gH1KZJeYa702",
        "outputId": "76b71310-a58d-416c-bf4e-87eb30c416bb"
      },
      "execution_count": null,
      "outputs": [
        {
          "name": "stdout",
          "output_type": "stream",
          "text": [
            "Please enter your answer: Female carriers of the DMD gene, particularly those who show symptoms of the disease, known as manifesting carriers, may experience a range of clinical implications. These may include: 1.\tMuscle Weakness: Manifesting carriers may have muscle weakness, particularly in the back, legs, and arms, which can lead to difficulties with mobility and activities that require muscle endurance. 2.\tFatigue: The muscle weakness is often accompanied by an increased susceptibility to fatigue, making it challenging to perform physical tasks that require sustained effort. 3.\tCardiomyopathy: Female carriers are at an increased risk of developing cardiomyopathy, a disease of the heart muscle that can lead to heart failure. Symptoms may include shortness of breath, swelling of the lower extremities, and an inability to do moderate exercise. 4.\tCardiac Issues: Heart problems in manifesting carriers can be serious and potentially life-threatening if left untreated. This underscores the importance of regular cardiac monitoring. 5.\tReproductive Considerations: Female carriers have a 50% chance of passing the mutated gene to their offspring. Sons have a 50% chance of inheriting the disease, while daughters have a 50% chance of being carriers themselves. 6.\tPsychological Impact: Knowing they are carriers and facing the possibility of developing symptoms can have psychological effects, leading to anxiety, stress, and emotional strain. 7.\tMonitoring and Management: It is recommended that female DMD carriers undergo regular strength evaluations and cardiac monitoring to manage symptoms and prevent complications. 8.\tGenetic Counseling: Female carriers may benefit from speaking to a genetic counselor or an MDA Care Center physician to understand the implications for their family and to explore reproductive options. It is important for female carriers who show symptoms to receive proper medical care, which may include physical therapy, cardiac care, and other supportive treatments, to manage the symptoms and maintain quality of life.\n"
          ]
        }
      ]
    },
    {
      "cell_type": "code",
      "source": [
        "evaluation = answer_evaluator.invoke({\"context\": doc_txt, \"question\": query_question, \"answer1\": Answer, \"answer2\": Second_answer})\n",
        "\n",
        "print(f\"Best Answer: {evaluation.best_answer}\")\n",
        "print(f\"Explanation: {evaluation.explanation}\")\n",
        "\n",
        "# Save in document\n",
        "answer_1 = Answer\n",
        "answer_2 = Second_answer\n",
        "question = query_question\n",
        "best_answer = evaluation.best_answer\n",
        "explanation = evaluation.explanation\n",
        "\n",
        "save_best_answer_to_docx(question,answer_1, answer_2, explanation,best_answer )"
      ],
      "metadata": {
        "colab": {
          "base_uri": "https://localhost:8080/"
        },
        "id": "QnbjYOlEb111",
        "outputId": "e9f5e8dc-aaa9-4c64-bcbd-7fadd6a2c320"
      },
      "execution_count": null,
      "outputs": [
        {
          "output_type": "stream",
          "name": "stdout",
          "text": [
            "Best Answer: Answer 2\n",
            "Explanation: Answer 2 is more relevant and accurate as it directly addresses the clinical implications for female carriers of the DMD gene, particularly those who show symptoms of the disease. It provides a concise and focused list of the potential clinical implications, including muscle weakness, fatigue, cardiomyopathy, reproductive considerations, psychological impact, monitoring, and genetic counseling. Answer 2 also emphasizes the importance of regular monitoring and proper medical care for female carriers exhibiting symptoms.\n",
            "Document saved as 'Best_Answer_Explanation.docx'\n"
          ]
        },
        {
          "output_type": "stream",
          "name": "stderr",
          "text": [
            "/usr/local/lib/python3.10/dist-packages/docx/styles/styles.py:130: UserWarning: style lookup by style_id is deprecated. Use style name as key instead.\n",
            "  return self._get_style_id_from_style(self[style_name], style_type)\n"
          ]
        }
      ]
    },
    {
      "cell_type": "markdown",
      "source": [
        "##Simple RAG"
      ],
      "metadata": {
        "id": "fhfK4B9VOUkk"
      }
    },
    {
      "cell_type": "code",
      "source": [
        "from langchain.chains import create_retrieval_chain\n",
        "\n",
        "retriever = vector.as_retriever()\n",
        "retrieval_chain = create_retrieval_chain(retriever, document_chain)"
      ],
      "metadata": {
        "id": "L78ta4vIWzGT"
      },
      "execution_count": null,
      "outputs": []
    },
    {
      "cell_type": "code",
      "source": [
        "from langchain.chat_models import ChatOpenAI\n",
        "# from langchain_openai import ChatOpenAI\n",
        "from langchain.chains import RetrievalQA\n",
        "# LLM\n",
        "llm = ChatOpenAI(model_name=\"gpt-4-1106-preview\", temperature=0.7,  api_key=Openai_API_key)\n",
        "\n",
        "# RetrievalQA\n",
        "qa_chain = RetrievalQA.from_chain_type(\n",
        "    llm,\n",
        "    retriever=retriever_text_FAISS,\n",
        "    chain_type=\"stuff\"\n",
        ")\n"
      ],
      "metadata": {
        "id": "i7mzNXBxqbKn"
      },
      "execution_count": null,
      "outputs": []
    },
    {
      "cell_type": "code",
      "source": [
        "#question = input(\"Type in your query: \\n\")\n",
        "question = Ques_docs[0].page_content\n",
        "Relevant_docs= retriever_text_FAISS.get_relevant_documents(question)\n",
        "\n",
        "# for ans in Relevant_docs:\n",
        "#     print(ans.page_content)\n",
        "\n",
        "result = qa_chain({\"query\": question})\n",
        "result[\"result\"]"
      ],
      "metadata": {
        "colab": {
          "base_uri": "https://localhost:8080/",
          "height": 87
        },
        "id": "OOuNe0nQqh-t",
        "outputId": "06cc3487-9720-448b-f115-584b5b12c3e7"
      },
      "execution_count": null,
      "outputs": [
        {
          "output_type": "execute_result",
          "data": {
            "text/plain": [
              "'A female dystrophin deficiency carrier may face potential health issues that include weaker muscles in the back, legs, and arms that fatigue easily. They may also experience heart problems, which can show up as shortness of breath or an inability to do moderate exercise. These heart problems, if untreated, can be quite serious, even life-threatening. Some women may also be manifesting carriers and exhibit some signs and symptoms of Duchenne muscular dystrophy (DMD). Regular strength evaluations and close cardiac monitoring are recommended for managing any symptoms that may arise.'"
            ],
            "application/vnd.google.colaboratory.intrinsic+json": {
              "type": "string"
            }
          },
          "metadata": {},
          "execution_count": 39
        }
      ]
    },
    {
      "cell_type": "code",
      "source": [
        "Relevant_docs"
      ],
      "metadata": {
        "colab": {
          "base_uri": "https://localhost:8080/"
        },
        "id": "RbSFDOhmjETN",
        "outputId": "b91e3bb8-4f78-4d83-97cd-cb24b187db9b"
      },
      "execution_count": null,
      "outputs": [
        {
          "output_type": "execute_result",
          "data": {
            "text/plain": [
              "[Document(page_content='For these women, the dystrophin deficiency may result in weaker muscles in the back, legs, and arms that fatigue easily. Manifesting carriers may have heart problems, which can show up as shortness of breath or an inability to do moderate exercise. The heart problems, if untreated, can be quite serious, even life-threatening.\\nIn very rare instances, a girl may lack a second X chromosome entirely, or her second X may have sustained serious damage. In these cases, she makes little or no dystrophin (depending on the type of dystrophin mutation), and she develops a dystrophinopathy just as a boy would.\\nA female relative of a boy with DMD can get a full range of diagnostic tests to determine her carrier status. If she is found to be a DMD carrier, regular strength evaluations and close cardiac monitoring can help her manage any symptoms that may arise. For more on DMD in females, see Debatable Destinies: Duchenne muscular dystrophy carriers carry on, despite uncertainty.'),\n",
              " Document(page_content=\"A man with DMD cannot pass the flawed gene to his sons because he gives a son a Y chromosome, not an X. But he will certainly pass it to his daughters, because each daughter inherits her father's only X chromosome. They will then be carriers, and each of their sons will have a 50 percent chance of developing the disease and so on.\\nA good way to find out more about the inheritance pattern in your family is to talk to your MDA Care Center physician or a genetic counselor. More information also is included in MDA's Disease Fact Sheets.\\n\\nFemales and DMD\\nWhy don't girls usually get DMD?\\nWhen a girl inherits a flawed dystrophin gene from one parent, she usually also gets a healthy dystrophin gene from her other parent, giving her enough of the protein to protect her from the disease. Males who inherit the mutation get the disease because they have no second dystrophin gene to make up for the faulty one.\\nEarly in the embryonic development of a female, either the X chromosome from the mother (maternal X) or the one from the father (paternal X) is inactivated in each cell. Chromosomes become inactivated at random. In each cell, there is a 50 percent chance that either the maternal or paternal X chromosome will be inactivated, with the other left active.\\nUsually, girls do not experience the full effects of DMD the way boys do, although they still have symptoms of muscle weakness. A minority of females with the mutation, called manifesting carriers, have some signs and symptoms of DMD.\")]"
            ]
          },
          "metadata": {},
          "execution_count": 40
        }
      ]
    },
    {
      "cell_type": "code",
      "source": [
        "result"
      ],
      "metadata": {
        "colab": {
          "base_uri": "https://localhost:8080/"
        },
        "id": "MMngCbquPAWf",
        "outputId": "d9b4f8b0-4d55-4125-9c9f-76650f50a40e"
      },
      "execution_count": null,
      "outputs": [
        {
          "output_type": "execute_result",
          "data": {
            "text/plain": [
              "{'query': '1. What discovery did MDA-supported researchers make in 1986 that advanced our understanding of Duchenne, Becker, and an intermediate form of muscular dystrophies? ',\n",
              " 'result': 'In 1986, MDA-supported researchers identified a gene on the X chromosome that, when mutated, causes Duchenne, Becker, and an intermediate form of muscular dystrophies. This was a significant advancement in understanding the genetic basis of these conditions.'}"
            ]
          },
          "metadata": {},
          "execution_count": 126
        }
      ]
    },
    {
      "cell_type": "code",
      "source": [
        "question"
      ],
      "metadata": {
        "colab": {
          "base_uri": "https://localhost:8080/",
          "height": 35
        },
        "id": "ErMqltkpKn1F",
        "outputId": "10492d58-9bb4-4a00-cd87-19b00d3c0ca7"
      },
      "execution_count": null,
      "outputs": [
        {
          "output_type": "execute_result",
          "data": {
            "text/plain": [
              "'2. How does a mutation in the gene that encodes the middle section of the dystrophin protein affect the production of the entire protein?'"
            ],
            "application/vnd.google.colaboratory.intrinsic+json": {
              "type": "string"
            }
          },
          "metadata": {},
          "execution_count": 73
        }
      ]
    }
  ]
}